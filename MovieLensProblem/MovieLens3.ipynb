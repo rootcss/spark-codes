{
 "cells": [
  {
   "cell_type": "code",
   "execution_count": 12,
   "metadata": {
    "collapsed": true
   },
   "outputs": [],
   "source": [
    "%matplotlib inline\n",
    "from matplotlib.pyplot import hist\n",
    "import matplotlib.pyplot as plt\n",
    "import numpy as np"
   ]
  },
  {
   "cell_type": "code",
   "execution_count": 5,
   "metadata": {
    "collapsed": false
   },
   "outputs": [
    {
     "name": "stdout",
     "output_type": "stream",
     "text": [
      "196\t242\t3\t881250949\n",
      "Number of ratings: 100000\n"
     ]
    }
   ],
   "source": [
    "rating_data = sc.textFile(\"data/ml-100k/u.data\")\n",
    "print rating_data.first()\n",
    "print \"Number of ratings: %d\" % (rating_data.count())"
   ]
  },
  {
   "cell_type": "code",
   "execution_count": 10,
   "metadata": {
    "collapsed": false
   },
   "outputs": [
    {
     "data": {
      "text/plain": [
       "(count: 100000, mean: 3.52986, stdev: 1.12566797076, max: 5.0, min: 1.0)"
      ]
     },
     "execution_count": 10,
     "metadata": {},
     "output_type": "execute_result"
    }
   ],
   "source": [
    "rating_dat = rating_data.map(lambda line: line.split(\"\\t\"))\n",
    "ratings = rating_dat.map(lambda fields: int(fields[2]))\n",
    "#max_rating = ratings.reduce(lambda x, y: max(x, y))\n",
    "#min_rating = ratings.reduce(lambda x, y: min(x, y))\n",
    "#mean_rating = ratings.reduce(lambda x, y: x + y) / num_ratings\n",
    "#median_rating = np.median(ratings.collect())\n",
    "ratings.stats()"
   ]
  },
  {
   "cell_type": "code",
   "execution_count": 16,
   "metadata": {
    "collapsed": false
   },
   "outputs": [
    {
     "data": {
      "image/png": "[encoded data removed]",
      "text/plain": [
       "<matplotlib.figure.Figure at 0x110d1b910>"
      ]
     },
     "metadata": {},
     "output_type": "display_data"
    }
   ],
   "source": [
    "count_by_rating = ratings.countByValue()\n",
    "x_axis = np.array(count_by_rating.keys())\n",
    "y_axis = np.array([float(c) for c in count_by_rating.values()])\n",
    "# we normalize the y-axis here to percentages\n",
    "y_axis_normed = y_axis / y_axis.sum()\n",
    "pos = np.arange(len(x_axis))\n",
    "width = 1.0\n",
    "ax = plt.axes()\n",
    "ax.set_xticks(pos + (width / 2))\n",
    "ax.set_xticklabels(x_axis)\n",
    "plt.bar(pos, y_axis_normed, width, color='lightblue')\n",
    "plt.xticks(rotation=30)\n",
    "fig = plt.gcf()\n",
    "fig.set_size_inches(5, 3)"
   ]
  },
  {
   "cell_type": "code",
   "execution_count": null,
   "metadata": {
    "collapsed": true
   },
   "outputs": [],
   "source": []
  }
 ],
 "metadata": {
  "kernelspec": {
   "display_name": "Python 2",
   "language": "python",
   "name": "python2"
  },
  "language_info": {
   "codemirror_mode": {
    "name": "ipython",
    "version": 2
   },
   "file_extension": ".py",
   "mimetype": "text/x-python",
   "name": "python",
   "nbconvert_exporter": "python",
   "pygments_lexer": "ipython2",
   "version": "2.7.10"
  }
 },
 "nbformat": 4,
 "nbformat_minor": 0
}
